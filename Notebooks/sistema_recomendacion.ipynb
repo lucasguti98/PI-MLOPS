{
 "cells": [
  {
   "cell_type": "code",
   "execution_count": 1,
   "id": "c53eda8c-7ac2-45fe-8c11-7760e007125f",
   "metadata": {},
   "outputs": [],
   "source": [
    "import pandas as pd"
   ]
  },
  {
   "cell_type": "code",
   "execution_count": 2,
   "id": "eb138a9e-24c4-4e8b-807a-4575d67a50d3",
   "metadata": {},
   "outputs": [],
   "source": [
    "df_games = pd.read_csv(\"steam_games_clean.csv\")"
   ]
  },
  {
   "cell_type": "code",
   "execution_count": 3,
   "id": "d3c14f55-1879-4b0f-b7e2-478e18195f00",
   "metadata": {},
   "outputs": [
    {
     "data": {
      "text/html": [
       "<div>\n",
       "<style scoped>\n",
       "    .dataframe tbody tr th:only-of-type {\n",
       "        vertical-align: middle;\n",
       "    }\n",
       "\n",
       "    .dataframe tbody tr th {\n",
       "        vertical-align: top;\n",
       "    }\n",
       "\n",
       "    .dataframe thead th {\n",
       "        text-align: right;\n",
       "    }\n",
       "</style>\n",
       "<table border=\"1\" class=\"dataframe\">\n",
       "  <thead>\n",
       "    <tr style=\"text-align: right;\">\n",
       "      <th></th>\n",
       "      <th>genres</th>\n",
       "      <th>title</th>\n",
       "      <th>price</th>\n",
       "      <th>id</th>\n",
       "      <th>developer</th>\n",
       "      <th>release_year</th>\n",
       "    </tr>\n",
       "  </thead>\n",
       "  <tbody>\n",
       "    <tr>\n",
       "      <th>0</th>\n",
       "      <td>['Action', 'Casual', 'Indie', 'Simulation', 'S...</td>\n",
       "      <td>Lost Summoner Kitty</td>\n",
       "      <td>4.99</td>\n",
       "      <td>761140.0</td>\n",
       "      <td>Kotoshiro</td>\n",
       "      <td>2018</td>\n",
       "    </tr>\n",
       "    <tr>\n",
       "      <th>1</th>\n",
       "      <td>['Free to Play', 'Indie', 'RPG', 'Strategy']</td>\n",
       "      <td>Ironbound</td>\n",
       "      <td>0.00</td>\n",
       "      <td>643980.0</td>\n",
       "      <td>Secret Level SRL</td>\n",
       "      <td>2018</td>\n",
       "    </tr>\n",
       "    <tr>\n",
       "      <th>2</th>\n",
       "      <td>['Casual', 'Free to Play', 'Indie', 'Simulatio...</td>\n",
       "      <td>Real Pool 3D - Poolians</td>\n",
       "      <td>0.00</td>\n",
       "      <td>670290.0</td>\n",
       "      <td>Poolians.com</td>\n",
       "      <td>2017</td>\n",
       "    </tr>\n",
       "    <tr>\n",
       "      <th>3</th>\n",
       "      <td>['Action', 'Adventure', 'Casual']</td>\n",
       "      <td>弹炸人2222</td>\n",
       "      <td>0.99</td>\n",
       "      <td>767400.0</td>\n",
       "      <td>彼岸领域</td>\n",
       "      <td>2017</td>\n",
       "    </tr>\n",
       "    <tr>\n",
       "      <th>4</th>\n",
       "      <td>['Action', 'Adventure', 'Simulation']</td>\n",
       "      <td>Battle Royale Trainer</td>\n",
       "      <td>3.99</td>\n",
       "      <td>772540.0</td>\n",
       "      <td>Trickjump Games Ltd</td>\n",
       "      <td>2018</td>\n",
       "    </tr>\n",
       "  </tbody>\n",
       "</table>\n",
       "</div>"
      ],
      "text/plain": [
       "                                              genres                    title  \\\n",
       "0  ['Action', 'Casual', 'Indie', 'Simulation', 'S...      Lost Summoner Kitty   \n",
       "1       ['Free to Play', 'Indie', 'RPG', 'Strategy']                Ironbound   \n",
       "2  ['Casual', 'Free to Play', 'Indie', 'Simulatio...  Real Pool 3D - Poolians   \n",
       "3                  ['Action', 'Adventure', 'Casual']                  弹炸人2222   \n",
       "4              ['Action', 'Adventure', 'Simulation']    Battle Royale Trainer   \n",
       "\n",
       "   price        id            developer  release_year  \n",
       "0   4.99  761140.0            Kotoshiro          2018  \n",
       "1   0.00  643980.0     Secret Level SRL          2018  \n",
       "2   0.00  670290.0         Poolians.com          2017  \n",
       "3   0.99  767400.0                 彼岸领域          2017  \n",
       "4   3.99  772540.0  Trickjump Games Ltd          2018  "
      ]
     },
     "execution_count": 3,
     "metadata": {},
     "output_type": "execute_result"
    }
   ],
   "source": [
    "df_games.head()"
   ]
  },
  {
   "cell_type": "code",
   "execution_count": 5,
   "id": "c2635492-8938-41e8-bc2d-49ab1a7ca6bc",
   "metadata": {},
   "outputs": [],
   "source": [
    "#Ordeno las columnas\n",
    "ordered_columns = [\"title\",\"id\",\"developer\",\"release_year\",\"genres\",\"price\"]\n",
    "df_games = df_games[ordered_columns]"
   ]
  },
  {
   "cell_type": "code",
   "execution_count": null,
   "id": "47de3835-ec6e-41c9-9331-0ee57e95662e",
   "metadata": {},
   "outputs": [],
   "source": [
    "#Hago el encoding de las columnas de género para hacer el sistema.\\n\",\n",
    "import ast\n",
    "df_games[\"genres\"] = df_games[\"genres\"].apply(lambda x: ast.literal_eval(x))\n",
    "genres = pd.DataFrame(df_games[\"genres\"].tolist())\\n\n",
    "genres_obj = genres.stack()\n",
    "genres_df = pd.get_dummies(genres_obj)\n",
    "genres_df = genres_df.groupby(level = [0], axis = 0).sum()"
   ]
  },
  {
   "cell_type": "code",
   "execution_count": 7,
   "id": "02adc356-0e8b-48ad-831c-580ae8d8caa8",
   "metadata": {},
   "outputs": [
    {
     "data": {
      "text/plain": [
       "Indie                        15123\n",
       "Action                       10697\n",
       "Casual                        8061\n",
       "Adventure                     7809\n",
       "Strategy                      6701\n",
       "Simulation                    6511\n",
       "RPG                           5121\n",
       "Free to Play                  1881\n",
       "Early Access                  1383\n",
       "Sports                        1206\n",
       "Racing                        1049\n",
       "Massively Multiplayer         1000\n",
       "Design &amp; Illustration      444\n",
       "Utilities                      315\n",
       "Web Publishing                 257\n",
       "Animation &amp; Modeling       163\n",
       "Education                      118\n",
       "Software Training              102\n",
       "Video Production               101\n",
       "Audio Production                84\n",
       "Photo Editing                   77\n",
       "Accounting                       7\n",
       "dtype: int64"
      ]
     },
     "execution_count": 7,
     "metadata": {},
     "output_type": "execute_result"
    }
   ],
   "source": [
    "genres_df.sum().sort_values(ascending=False)"
   ]
  },
  {
   "cell_type": "code",
   "execution_count": 8,
   "id": "92ea01a2-8e66-431d-a060-5fde13299765",
   "metadata": {},
   "outputs": [],
   "source": [
    "genres_df = genres_df[[\"Indie\",\"Action\",\"Casual\",\"Adventure\",\"Strategy\",\"Simulation\",\"RPG\",\"Free to Play\",\"Sports\",\"Racing\"]]"
   ]
  },
  {
   "cell_type": "code",
   "execution_count": 9,
   "id": "a0f686d7-3db4-4f83-a252-e5e92e29f8c6",
   "metadata": {},
   "outputs": [],
   "source": [
    "df_games = pd.concat([df_games, genres_df], axis = 1)\n",
    "df_games = df_games.drop(columns=\"genres\")"
   ]
  },
  {
   "cell_type": "code",
   "execution_count": 10,
   "id": "b0c5f61a-86b4-4f07-bcb0-4813e1209a7c",
   "metadata": {},
   "outputs": [
    {
     "data": {
      "text/plain": [
       "Index(['title', 'id', 'developer', 'release_year', 'price', 'Indie', 'Action',\n",
       "       'Casual', 'Adventure', 'Strategy', 'Simulation', 'RPG', 'Free to Play',\n",
       "       'Sports', 'Racing'],\n",
       "      dtype='object')"
      ]
     },
     "execution_count": 10,
     "metadata": {},
     "output_type": "execute_result"
    }
   ],
   "source": [
    "df_games.columns"
   ]
  },
  {
   "cell_type": "code",
   "execution_count": 11,
   "id": "1ade89bd-0cce-4733-9a90-620c492ef35d",
   "metadata": {},
   "outputs": [],
   "source": [
    "#Selecciono las primeras 5000 filas para que mi pc de 8gb de ram pueda procesarlo.\n",
    "\n",
    "df_games = df_games.head(5000)"
   ]
  },
  {
   "cell_type": "code",
   "execution_count": 13,
   "id": "1edc26f0-0703-4f26-b891-4223dd6865e0",
   "metadata": {},
   "outputs": [],
   "source": [
    "from sklearn.metrics.pairwise import cosine_similarity\n",
    "\n",
    "def calcular_recomendacion(df_games, title, top_n=5):\n",
    "\n",
    "    features = df_games[['Indie', 'Action', 'Casual', 'Adventure', 'Strategy', 'Simulation', 'RPG', 'Free to Play', 'Sports', 'Racing']]\n",
    "\n",
    "    similarity_matrix = cosine_similarity(features)\n",
    "\n",
    "    indice_juego = df_games[df_games['title'] == title].index[0]\n",
    "\n",
    "    similar_juegos = list(enumerate(similarity_matrix[indice_juego]))\n",
    "\n",
    "    similar_juegos = sorted(similar_juegos, key=lambda x: x[1], reverse=True)\n",
    "\n",
    "    top_n_similar_juegos = similar_juegos[1:top_n + 1]\n",
    "\n",
    "    top_n_indices = [x[0] for x in top_n_similar_juegos]\n",
    "\n",
    "    juegos_recomendados = df_games.iloc[top_n_indices]['title'].tolist()\n",
    "\n",
    "    return juegos_recomendados"
   ]
  },
  {
   "cell_type": "code",
   "execution_count": 15,
   "id": "50136fff-d3eb-447b-a3b6-5b5837e167a0",
   "metadata": {},
   "outputs": [],
   "source": [
    "juegos = df_games[\"title\"]\n",
    "\n",
    "recomendaciones_dict = {}\n",
    "\n",
    "for title in juegos:\n",
    "    recomendaciones = calcular_recomendacion(df_games, title, top_n=5)\n",
    "    recomendaciones_dict[title] = recomendaciones\n",
    "\n",
    "recomendaciones_df = pd.DataFrame(recomendaciones_dict.items(), columns=[\"Juego\", \"Juegos Recomendados\"])"
   ]
  },
  {
   "cell_type": "code",
   "execution_count": 17,
   "id": "a9442116-038e-48a9-aa5e-77866e164257",
   "metadata": {},
   "outputs": [],
   "source": [
    "recomendaciones_df.to_csv(\"sistema_recomendacion.csv\",index=False)"
   ]
  },
  {
   "cell_type": "code",
   "execution_count": 18,
   "id": "d3fd8eca-d8f7-43df-b5f7-e1080fd6b30c",
   "metadata": {},
   "outputs": [
    {
     "data": {
      "text/html": [
       "<div>\n",
       "<style scoped>\n",
       "    .dataframe tbody tr th:only-of-type {\n",
       "        vertical-align: middle;\n",
       "    }\n",
       "\n",
       "    .dataframe tbody tr th {\n",
       "        vertical-align: top;\n",
       "    }\n",
       "\n",
       "    .dataframe thead th {\n",
       "        text-align: right;\n",
       "    }\n",
       "</style>\n",
       "<table border=\"1\" class=\"dataframe\">\n",
       "  <thead>\n",
       "    <tr style=\"text-align: right;\">\n",
       "      <th></th>\n",
       "      <th>Game</th>\n",
       "      <th>Recommended Games</th>\n",
       "    </tr>\n",
       "  </thead>\n",
       "  <tbody>\n",
       "    <tr>\n",
       "      <th>0</th>\n",
       "      <td>Lost Summoner Kitty</td>\n",
       "      <td>[Pixel Puzzles 2: Anime, World of Cinema - Dir...</td>\n",
       "    </tr>\n",
       "    <tr>\n",
       "      <th>1</th>\n",
       "      <td>Ironbound</td>\n",
       "      <td>[Shadow Hunter, Immortal Empire, Tactical Craf...</td>\n",
       "    </tr>\n",
       "    <tr>\n",
       "      <th>2</th>\n",
       "      <td>Real Pool 3D - Poolians</td>\n",
       "      <td>[SNOW - All Access Basic Pass, SNOW - All Acce...</td>\n",
       "    </tr>\n",
       "    <tr>\n",
       "      <th>3</th>\n",
       "      <td>弹炸人2222</td>\n",
       "      <td>[Atomic Adam: Episode 1, Biozone, Luxor: 5th P...</td>\n",
       "    </tr>\n",
       "    <tr>\n",
       "      <th>4</th>\n",
       "      <td>Battle Royale Trainer</td>\n",
       "      <td>[The Tomorrow War, Beyond Space Remastered Edi...</td>\n",
       "    </tr>\n",
       "    <tr>\n",
       "      <th>...</th>\n",
       "      <td>...</td>\n",
       "      <td>...</td>\n",
       "    </tr>\n",
       "    <tr>\n",
       "      <th>4995</th>\n",
       "      <td>Disgaea PC / 魔界戦記ディスガイア PC</td>\n",
       "      <td>[Rise of the Argonauts, Drakensang, Guild Wars...</td>\n",
       "    </tr>\n",
       "    <tr>\n",
       "      <th>4996</th>\n",
       "      <td>24 Hours 'til Rescue: Cheat Pack!</td>\n",
       "      <td>[Fearless Fantasy, Luna: Shattered Hearts: Epi...</td>\n",
       "    </tr>\n",
       "    <tr>\n",
       "      <th>4997</th>\n",
       "      <td>Disgaea PC / 魔界戦記ディスガイア PC - Digital Art Book ...</td>\n",
       "      <td>[Rise of the Argonauts, Drakensang, Guild Wars...</td>\n",
       "    </tr>\n",
       "    <tr>\n",
       "      <th>4998</th>\n",
       "      <td>軒轅劍外傳穹之扉音樂精選集(Sound Collection of Xuan-Yuan Sw...</td>\n",
       "      <td>[Rise of the Argonauts, Drakensang, Guild Wars...</td>\n",
       "    </tr>\n",
       "    <tr>\n",
       "      <th>4999</th>\n",
       "      <td>軒轅劍外傳穹之扉(The Gate of Firmament)</td>\n",
       "      <td>[Rise of the Argonauts, Drakensang, Guild Wars...</td>\n",
       "    </tr>\n",
       "  </tbody>\n",
       "</table>\n",
       "<p>5000 rows × 2 columns</p>\n",
       "</div>"
      ],
      "text/plain": [
       "                                                   Game  \\\n",
       "0                                   Lost Summoner Kitty   \n",
       "1                                             Ironbound   \n",
       "2                               Real Pool 3D - Poolians   \n",
       "3                                               弹炸人2222   \n",
       "4                                 Battle Royale Trainer   \n",
       "...                                                 ...   \n",
       "4995                         Disgaea PC / 魔界戦記ディスガイア PC   \n",
       "4996                  24 Hours 'til Rescue: Cheat Pack!   \n",
       "4997  Disgaea PC / 魔界戦記ディスガイア PC - Digital Art Book ...   \n",
       "4998  軒轅劍外傳穹之扉音樂精選集(Sound Collection of Xuan-Yuan Sw...   \n",
       "4999                    軒轅劍外傳穹之扉(The Gate of Firmament)   \n",
       "\n",
       "                                      Recommended Games  \n",
       "0     [Pixel Puzzles 2: Anime, World of Cinema - Dir...  \n",
       "1     [Shadow Hunter, Immortal Empire, Tactical Craf...  \n",
       "2     [SNOW - All Access Basic Pass, SNOW - All Acce...  \n",
       "3     [Atomic Adam: Episode 1, Biozone, Luxor: 5th P...  \n",
       "4     [The Tomorrow War, Beyond Space Remastered Edi...  \n",
       "...                                                 ...  \n",
       "4995  [Rise of the Argonauts, Drakensang, Guild Wars...  \n",
       "4996  [Fearless Fantasy, Luna: Shattered Hearts: Epi...  \n",
       "4997  [Rise of the Argonauts, Drakensang, Guild Wars...  \n",
       "4998  [Rise of the Argonauts, Drakensang, Guild Wars...  \n",
       "4999  [Rise of the Argonauts, Drakensang, Guild Wars...  \n",
       "\n",
       "[5000 rows x 2 columns]"
      ]
     },
     "execution_count": 18,
     "metadata": {},
     "output_type": "execute_result"
    }
   ],
   "source": [
    "recomendaciones_df"
   ]
  }
 ],
 "metadata": {
  "kernelspec": {
   "display_name": "Python 3 (ipykernel)",
   "language": "python",
   "name": "python3"
  },
  "language_info": {
   "codemirror_mode": {
    "name": "ipython",
    "version": 3
   },
   "file_extension": ".py",
   "mimetype": "text/x-python",
   "name": "python",
   "nbconvert_exporter": "python",
   "pygments_lexer": "ipython3",
   "version": "3.11.8"
  }
 },
 "nbformat": 4,
 "nbformat_minor": 5
}
