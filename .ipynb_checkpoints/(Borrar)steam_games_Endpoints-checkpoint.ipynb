{
 "cells": [
  {
   "cell_type": "code",
   "execution_count": 1,
   "id": "80da458b-3e50-4412-98b1-f82ecf65ede2",
   "metadata": {},
   "outputs": [
    {
     "name": "stderr",
     "output_type": "stream",
     "text": [
      "C:\\Users\\lucas\\AppData\\Local\\Temp\\ipykernel_15780\\1492400551.py:1: DeprecationWarning: \n",
      "Pyarrow will become a required dependency of pandas in the next major release of pandas (pandas 3.0),\n",
      "(to allow more performant data types, such as the Arrow string type, and better interoperability with other libraries)\n",
      "but was not found to be installed on your system.\n",
      "If this would cause problems for you,\n",
      "please provide us feedback at https://github.com/pandas-dev/pandas/issues/54466\n",
      "        \n",
      "  import pandas as pd\n"
     ]
    }
   ],
   "source": [
    "import pandas as pd\n",
    "import matplotlib.pyplot as plt"
   ]
  },
  {
   "cell_type": "code",
   "execution_count": 2,
   "id": "86a12989-5595-48a9-bd67-01fa0158515c",
   "metadata": {},
   "outputs": [],
   "source": [
    "df = pd.read_csv(\"cleaned_data.csv\")"
   ]
  },
  {
   "cell_type": "code",
   "execution_count": 3,
   "id": "72d727b4-60d9-498a-854c-6d7853d2d5d6",
   "metadata": {},
   "outputs": [
    {
     "data": {
      "text/html": [
       "<div>\n",
       "<style scoped>\n",
       "    .dataframe tbody tr th:only-of-type {\n",
       "        vertical-align: middle;\n",
       "    }\n",
       "\n",
       "    .dataframe tbody tr th {\n",
       "        vertical-align: top;\n",
       "    }\n",
       "\n",
       "    .dataframe thead th {\n",
       "        text-align: right;\n",
       "    }\n",
       "</style>\n",
       "<table border=\"1\" class=\"dataframe\">\n",
       "  <thead>\n",
       "    <tr style=\"text-align: right;\">\n",
       "      <th></th>\n",
       "      <th>genres</th>\n",
       "      <th>title</th>\n",
       "      <th>price</th>\n",
       "      <th>id</th>\n",
       "      <th>developer</th>\n",
       "      <th>release_year</th>\n",
       "    </tr>\n",
       "  </thead>\n",
       "  <tbody>\n",
       "    <tr>\n",
       "      <th>0</th>\n",
       "      <td>['Action', 'Casual', 'Indie', 'Simulation', 'S...</td>\n",
       "      <td>Lost Summoner Kitty</td>\n",
       "      <td>4.99</td>\n",
       "      <td>761140</td>\n",
       "      <td>Kotoshiro</td>\n",
       "      <td>2018</td>\n",
       "    </tr>\n",
       "    <tr>\n",
       "      <th>1</th>\n",
       "      <td>['Free to Play', 'Indie', 'RPG', 'Strategy']</td>\n",
       "      <td>Ironbound</td>\n",
       "      <td>0.00</td>\n",
       "      <td>643980</td>\n",
       "      <td>Secret Level SRL</td>\n",
       "      <td>2018</td>\n",
       "    </tr>\n",
       "    <tr>\n",
       "      <th>2</th>\n",
       "      <td>['Casual', 'Free to Play', 'Indie', 'Simulatio...</td>\n",
       "      <td>Real Pool 3D - Poolians</td>\n",
       "      <td>0.00</td>\n",
       "      <td>670290</td>\n",
       "      <td>Poolians.com</td>\n",
       "      <td>2017</td>\n",
       "    </tr>\n",
       "    <tr>\n",
       "      <th>3</th>\n",
       "      <td>['Action', 'Adventure', 'Casual']</td>\n",
       "      <td>弹炸人2222</td>\n",
       "      <td>0.99</td>\n",
       "      <td>767400</td>\n",
       "      <td>彼岸领域</td>\n",
       "      <td>2017</td>\n",
       "    </tr>\n",
       "    <tr>\n",
       "      <th>4</th>\n",
       "      <td>['Action', 'Adventure', 'Simulation']</td>\n",
       "      <td>Battle Royale Trainer</td>\n",
       "      <td>3.99</td>\n",
       "      <td>772540</td>\n",
       "      <td>Trickjump Games Ltd</td>\n",
       "      <td>2018</td>\n",
       "    </tr>\n",
       "  </tbody>\n",
       "</table>\n",
       "</div>"
      ],
      "text/plain": [
       "                                              genres                    title  \\\n",
       "0  ['Action', 'Casual', 'Indie', 'Simulation', 'S...      Lost Summoner Kitty   \n",
       "1       ['Free to Play', 'Indie', 'RPG', 'Strategy']                Ironbound   \n",
       "2  ['Casual', 'Free to Play', 'Indie', 'Simulatio...  Real Pool 3D - Poolians   \n",
       "3                  ['Action', 'Adventure', 'Casual']                  弹炸人2222   \n",
       "4              ['Action', 'Adventure', 'Simulation']    Battle Royale Trainer   \n",
       "\n",
       "   price      id            developer  release_year  \n",
       "0   4.99  761140            Kotoshiro          2018  \n",
       "1   0.00  643980     Secret Level SRL          2018  \n",
       "2   0.00  670290         Poolians.com          2017  \n",
       "3   0.99  767400                 彼岸领域          2017  \n",
       "4   3.99  772540  Trickjump Games Ltd          2018  "
      ]
     },
     "execution_count": 3,
     "metadata": {},
     "output_type": "execute_result"
    }
   ],
   "source": [
    "df.head()"
   ]
  },
  {
   "cell_type": "code",
   "execution_count": 4,
   "id": "965abdf5-22fb-4690-8ee5-09033ef35c75",
   "metadata": {},
   "outputs": [
    {
     "data": {
      "text/plain": [
       "price\n",
       "4.99      3857\n",
       "9.99      3580\n",
       "2.99      3178\n",
       "0.99      2476\n",
       "1.99      2251\n",
       "          ... \n",
       "3.39         1\n",
       "6.00         1\n",
       "16.06        1\n",
       "4.68         1\n",
       "160.91       1\n",
       "Name: count, Length: 127, dtype: int64"
      ]
     },
     "execution_count": 4,
     "metadata": {},
     "output_type": "execute_result"
    }
   ],
   "source": [
    "df[\"price\"].value_counts()"
   ]
  },
  {
   "cell_type": "code",
   "execution_count": 5,
   "id": "d33ad46c-6cb0-4ce3-9e0c-71351f390e5c",
   "metadata": {},
   "outputs": [
    {
     "data": {
      "text/plain": [
       "(27572, 6)"
      ]
     },
     "execution_count": 5,
     "metadata": {},
     "output_type": "execute_result"
    }
   ],
   "source": [
    "df.shape"
   ]
  },
  {
   "cell_type": "code",
   "execution_count": 6,
   "id": "3c2df9e1-d864-4983-adc0-36bc11c45fb1",
   "metadata": {},
   "outputs": [
    {
     "data": {
      "text/html": [
       "<div>\n",
       "<style scoped>\n",
       "    .dataframe tbody tr th:only-of-type {\n",
       "        vertical-align: middle;\n",
       "    }\n",
       "\n",
       "    .dataframe tbody tr th {\n",
       "        vertical-align: top;\n",
       "    }\n",
       "\n",
       "    .dataframe thead th {\n",
       "        text-align: right;\n",
       "    }\n",
       "</style>\n",
       "<table border=\"1\" class=\"dataframe\">\n",
       "  <thead>\n",
       "    <tr style=\"text-align: right;\">\n",
       "      <th></th>\n",
       "      <th>genres</th>\n",
       "      <th>title</th>\n",
       "      <th>price</th>\n",
       "      <th>id</th>\n",
       "      <th>developer</th>\n",
       "      <th>release_year</th>\n",
       "    </tr>\n",
       "  </thead>\n",
       "  <tbody>\n",
       "    <tr>\n",
       "      <th>0</th>\n",
       "      <td>['Action', 'Casual', 'Indie', 'Simulation', 'S...</td>\n",
       "      <td>Lost Summoner Kitty</td>\n",
       "      <td>4.99</td>\n",
       "      <td>761140</td>\n",
       "      <td>Kotoshiro</td>\n",
       "      <td>2018</td>\n",
       "    </tr>\n",
       "    <tr>\n",
       "      <th>1</th>\n",
       "      <td>['Free to Play', 'Indie', 'RPG', 'Strategy']</td>\n",
       "      <td>Ironbound</td>\n",
       "      <td>0.00</td>\n",
       "      <td>643980</td>\n",
       "      <td>Secret Level SRL</td>\n",
       "      <td>2018</td>\n",
       "    </tr>\n",
       "    <tr>\n",
       "      <th>2</th>\n",
       "      <td>['Casual', 'Free to Play', 'Indie', 'Simulatio...</td>\n",
       "      <td>Real Pool 3D - Poolians</td>\n",
       "      <td>0.00</td>\n",
       "      <td>670290</td>\n",
       "      <td>Poolians.com</td>\n",
       "      <td>2017</td>\n",
       "    </tr>\n",
       "    <tr>\n",
       "      <th>3</th>\n",
       "      <td>['Action', 'Adventure', 'Casual']</td>\n",
       "      <td>弹炸人2222</td>\n",
       "      <td>0.99</td>\n",
       "      <td>767400</td>\n",
       "      <td>彼岸领域</td>\n",
       "      <td>2017</td>\n",
       "    </tr>\n",
       "    <tr>\n",
       "      <th>4</th>\n",
       "      <td>['Action', 'Adventure', 'Simulation']</td>\n",
       "      <td>Battle Royale Trainer</td>\n",
       "      <td>3.99</td>\n",
       "      <td>772540</td>\n",
       "      <td>Trickjump Games Ltd</td>\n",
       "      <td>2018</td>\n",
       "    </tr>\n",
       "  </tbody>\n",
       "</table>\n",
       "</div>"
      ],
      "text/plain": [
       "                                              genres                    title  \\\n",
       "0  ['Action', 'Casual', 'Indie', 'Simulation', 'S...      Lost Summoner Kitty   \n",
       "1       ['Free to Play', 'Indie', 'RPG', 'Strategy']                Ironbound   \n",
       "2  ['Casual', 'Free to Play', 'Indie', 'Simulatio...  Real Pool 3D - Poolians   \n",
       "3                  ['Action', 'Adventure', 'Casual']                  弹炸人2222   \n",
       "4              ['Action', 'Adventure', 'Simulation']    Battle Royale Trainer   \n",
       "\n",
       "   price      id            developer  release_year  \n",
       "0   4.99  761140            Kotoshiro          2018  \n",
       "1   0.00  643980     Secret Level SRL          2018  \n",
       "2   0.00  670290         Poolians.com          2017  \n",
       "3   0.99  767400                 彼岸领域          2017  \n",
       "4   3.99  772540  Trickjump Games Ltd          2018  "
      ]
     },
     "execution_count": 6,
     "metadata": {},
     "output_type": "execute_result"
    }
   ],
   "source": [
    "df.head()"
   ]
  },
  {
   "cell_type": "markdown",
   "id": "d977dd05-3ab3-4b84-bd12-d8fa20d95b5d",
   "metadata": {},
   "source": [
    "## Endpoints"
   ]
  },
  {
   "cell_type": "markdown",
   "id": "c9c24eb2-3a86-4637-b2b3-833ce2aaf26f",
   "metadata": {},
   "source": [
    "#### Endpoint 1 :"
   ]
  },
  {
   "cell_type": "code",
   "execution_count": 8,
   "id": "67e349db-ea97-4656-bc70-50f15f65af5f",
   "metadata": {},
   "outputs": [
    {
     "data": {
      "text/plain": [
       "developer\n",
       "Ubisoft - San Francisco       1258\n",
       "SmiteWorks USA, LLC            812\n",
       "Dovetail Games                 253\n",
       "KOEI TECMO GAMES CO., LTD.     214\n",
       "Unknown                        155\n",
       "                              ... \n",
       "Project Purity Team              1\n",
       "Triple rush games                1\n",
       "Storybird,Julien Rocca           1\n",
       "Light                            1\n",
       "Bidoniera Games                  1\n",
       "Name: count, Length: 10592, dtype: int64"
      ]
     },
     "execution_count": 8,
     "metadata": {},
     "output_type": "execute_result"
    }
   ],
   "source": [
    "df[\"developer\"].value_counts()"
   ]
  },
  {
   "cell_type": "code",
   "execution_count": 9,
   "id": "a9578675-7cd4-4edc-8562-a4fe3b14292c",
   "metadata": {},
   "outputs": [],
   "source": [
    "df[\"año\"] = df[\"release_year\"]  #Creo una columna de año.\n",
    "\n",
    "contenido_free = df[df[\"price\"] == 0.0] #Selecciono un subset donde los precios sean 0.0.\n",
    "\n",
    "total_juegos_por_desarrollador = df.groupby([\"developer\", \"año\"]).size().reset_index(name=\"total_juegos\") #Agrupo a los juegos por año y desarrollador.\n",
    "num_juegos_gratuitos = contenido_free.groupby([\"developer\", \"año\"]).size().reset_index(name='num_juegos_gratuitos')\n",
    "\n",
    "juegos_por_desarrollador = total_juegos_por_desarrollador.merge(num_juegos_gratuitos, on=[\"developer\", \"año\"], how=\"left\") #Uno en un dataframe los juegos free y los demás.\n",
    "juegos_por_desarrollador[\"porcentaje_juegos_gratuitos\"] = (juegos_por_desarrollador[\"num_juegos_gratuitos\"] / juegos_por_desarrollador[\"total_juegos\"]) * 100 #Calculo el promedio de juegos gratuitos\n",
    "\n",
    "juegos_por_desarrollador = juegos_por_desarrollador.fillna(0)\n",
    "juegos_por_desarrollador = juegos_por_desarrollador.drop(\"num_juegos_gratuitos\", axis=1)\n",
    "juegos_por_desarrollador[\"porcentaje_juegos_gratuitos\"] = juegos_por_desarrollador[\"porcentaje_juegos_gratuitos\"].apply(lambda x: f'{int(x)}%')\n"
   ]
  },
  {
   "cell_type": "code",
   "execution_count": 10,
   "id": "cb0fc2ed-f743-4200-bbc4-a5e05b1e7da2",
   "metadata": {},
   "outputs": [
    {
     "data": {
      "text/html": [
       "<div>\n",
       "<style scoped>\n",
       "    .dataframe tbody tr th:only-of-type {\n",
       "        vertical-align: middle;\n",
       "    }\n",
       "\n",
       "    .dataframe tbody tr th {\n",
       "        vertical-align: top;\n",
       "    }\n",
       "\n",
       "    .dataframe thead th {\n",
       "        text-align: right;\n",
       "    }\n",
       "</style>\n",
       "<table border=\"1\" class=\"dataframe\">\n",
       "  <thead>\n",
       "    <tr style=\"text-align: right;\">\n",
       "      <th></th>\n",
       "      <th>developer</th>\n",
       "      <th>año</th>\n",
       "      <th>total_juegos</th>\n",
       "      <th>porcentaje_juegos_gratuitos</th>\n",
       "    </tr>\n",
       "  </thead>\n",
       "  <tbody>\n",
       "    <tr>\n",
       "      <th>3598</th>\n",
       "      <td>Dovetail Games</td>\n",
       "      <td>2009</td>\n",
       "      <td>22</td>\n",
       "      <td>0%</td>\n",
       "    </tr>\n",
       "    <tr>\n",
       "      <th>3599</th>\n",
       "      <td>Dovetail Games</td>\n",
       "      <td>2010</td>\n",
       "      <td>4</td>\n",
       "      <td>0%</td>\n",
       "    </tr>\n",
       "    <tr>\n",
       "      <th>3600</th>\n",
       "      <td>Dovetail Games</td>\n",
       "      <td>2011</td>\n",
       "      <td>4</td>\n",
       "      <td>0%</td>\n",
       "    </tr>\n",
       "    <tr>\n",
       "      <th>3601</th>\n",
       "      <td>Dovetail Games</td>\n",
       "      <td>2012</td>\n",
       "      <td>52</td>\n",
       "      <td>0%</td>\n",
       "    </tr>\n",
       "    <tr>\n",
       "      <th>3602</th>\n",
       "      <td>Dovetail Games</td>\n",
       "      <td>2013</td>\n",
       "      <td>39</td>\n",
       "      <td>0%</td>\n",
       "    </tr>\n",
       "    <tr>\n",
       "      <th>3603</th>\n",
       "      <td>Dovetail Games</td>\n",
       "      <td>2014</td>\n",
       "      <td>37</td>\n",
       "      <td>0%</td>\n",
       "    </tr>\n",
       "    <tr>\n",
       "      <th>3604</th>\n",
       "      <td>Dovetail Games</td>\n",
       "      <td>2015</td>\n",
       "      <td>50</td>\n",
       "      <td>0%</td>\n",
       "    </tr>\n",
       "    <tr>\n",
       "      <th>3605</th>\n",
       "      <td>Dovetail Games</td>\n",
       "      <td>2016</td>\n",
       "      <td>21</td>\n",
       "      <td>0%</td>\n",
       "    </tr>\n",
       "    <tr>\n",
       "      <th>3606</th>\n",
       "      <td>Dovetail Games</td>\n",
       "      <td>2017</td>\n",
       "      <td>24</td>\n",
       "      <td>4%</td>\n",
       "    </tr>\n",
       "  </tbody>\n",
       "</table>\n",
       "</div>"
      ],
      "text/plain": [
       "           developer   año  total_juegos porcentaje_juegos_gratuitos\n",
       "3598  Dovetail Games  2009            22                          0%\n",
       "3599  Dovetail Games  2010             4                          0%\n",
       "3600  Dovetail Games  2011             4                          0%\n",
       "3601  Dovetail Games  2012            52                          0%\n",
       "3602  Dovetail Games  2013            39                          0%\n",
       "3603  Dovetail Games  2014            37                          0%\n",
       "3604  Dovetail Games  2015            50                          0%\n",
       "3605  Dovetail Games  2016            21                          0%\n",
       "3606  Dovetail Games  2017            24                          4%"
      ]
     },
     "execution_count": 10,
     "metadata": {},
     "output_type": "execute_result"
    }
   ],
   "source": [
    "#Chequeo que haya quedado bien.\n",
    "juegos_por_desarrollador[juegos_por_desarrollador[\"developer\"]==\"Dovetail Games\"]"
   ]
  },
  {
   "cell_type": "code",
   "execution_count": 11,
   "id": "07f94df3-c05c-4d34-888c-29d75bab170e",
   "metadata": {},
   "outputs": [
    {
     "data": {
      "text/plain": [
       "porcentaje_juegos_gratuitos\n",
       "0%      13116\n",
       "100%      786\n",
       "50%       237\n",
       "33%        72\n",
       "25%        71\n",
       "20%        26\n",
       "14%        19\n",
       "66%        16\n",
       "16%        16\n",
       "12%        12\n",
       "9%          7\n",
       "28%         6\n",
       "7%          6\n",
       "11%         6\n",
       "4%          5\n",
       "5%          4\n",
       "6%          4\n",
       "2%          4\n",
       "22%         3\n",
       "75%         3\n",
       "8%          2\n",
       "42%         2\n",
       "41%         2\n",
       "37%         2\n",
       "40%         2\n",
       "3%          1\n",
       "35%         1\n",
       "55%         1\n",
       "17%         1\n",
       "13%         1\n",
       "85%         1\n",
       "18%         1\n",
       "87%         1\n",
       "26%         1\n",
       "1%          1\n",
       "10%         1\n",
       "15%         1\n",
       "46%         1\n",
       "Name: count, dtype: int64"
      ]
     },
     "execution_count": 11,
     "metadata": {},
     "output_type": "execute_result"
    }
   ],
   "source": [
    "juegos_por_desarrollador[\"porcentaje_juegos_gratuitos\"].value_counts()"
   ]
  },
  {
   "cell_type": "code",
   "execution_count": 12,
   "id": "978329aa-e00e-4f6c-a39f-172b440e6433",
   "metadata": {},
   "outputs": [],
   "source": [
    "#Almaceno el df en un csv para ser consumido por la API.\n",
    "juegos_por_desarrollador.to_csv(\"df_endpoint1.csv\", index=False)"
   ]
  },
  {
   "cell_type": "markdown",
   "id": "4e8162cc-27c1-4908-820b-bb3a59b31f60",
   "metadata": {},
   "source": [
    "#### Endpoint 2"
   ]
  },
  {
   "cell_type": "code",
   "execution_count": 8,
   "id": "2f469414-6b84-4134-b2ea-524d49c8b8a2",
   "metadata": {},
   "outputs": [],
   "source": [
    "preciosdejuegos = df[[\"id\", \"price\"]]\n",
    "preciosdejuegos = preciosdejuegos.reset_index(drop=True)"
   ]
  },
  {
   "cell_type": "code",
   "execution_count": 9,
   "id": "7761a4da-4da1-4936-9ff8-6d950483395c",
   "metadata": {},
   "outputs": [],
   "source": [
    "#Almaceno los precios de los juegos para crear el endpoint 2\n",
    "preciosdejuegos.to_csv('preciosdejuegos.csv', index=False) "
   ]
  }
 ],
 "metadata": {
  "kernelspec": {
   "display_name": "Python 3 (ipykernel)",
   "language": "python",
   "name": "python3"
  },
  "language_info": {
   "codemirror_mode": {
    "name": "ipython",
    "version": 3
   },
   "file_extension": ".py",
   "mimetype": "text/x-python",
   "name": "python",
   "nbconvert_exporter": "python",
   "pygments_lexer": "ipython3",
   "version": "3.12.1"
  }
 },
 "nbformat": 4,
 "nbformat_minor": 5
}
